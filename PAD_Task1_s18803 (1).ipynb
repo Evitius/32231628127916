{
  "cells": [
    {
      "cell_type": "markdown",
      "metadata": {
        "id": "qrwhy5pGh8NA"
      },
      "source": [
        "# **Praca domowa PAD Lab01**\n",
        "###**Michał Żabicki s18803**"
      ]
    },
    {
      "cell_type": "markdown",
      "metadata": {
        "id": "F-r3kNKJY9BM"
      },
      "source": [
        "## Ćwiczenie 1"
      ]
    },
    {
      "attachments": {},
      "cell_type": "markdown",
      "metadata": {
        "id": "vIgybhKxY9BM"
      },
      "source": [
        "Napisz funkcję o nazwie check_range, która sprawdza, czy liczba znajduje się w podanym zakresie (zawiera zarówno niski *__i__* wysoki). <br>\n",
        "Jeśli tak, zwróć „x jest między y a z”. <br>\n",
        "Jeśli tak nie jest, zwróć „x NIE jest między y a z”. <br>\n",
        "Gdzie:\n",
        "- x to liczba\n",
        "- y jest dolną granicą\n",
        "- z to górna granica"
      ]
    },
    {
      "cell_type": "code",
      "execution_count": 1,
      "metadata": {},
      "outputs": [],
      "source": [
        "def check_range(x, y, z):\n",
        "  if(x>y and x<z):\n",
        "    print('x jest między y a z')\n",
        "  else:\n",
        "    print('x NIE jest między y a z')"
      ]
    },
    {
      "cell_type": "code",
      "execution_count": null,
      "metadata": {
        "colab": {
          "base_uri": "https://localhost:8080/"
        },
        "id": "FGgjnW_OY9BM",
        "outputId": "aa477663-d877-429f-9d30-eacdf337fb57"
      },
      "outputs": [],
      "source": [
        "check_range(34, 9, 228)"
      ]
    },
    {
      "cell_type": "code",
      "execution_count": null,
      "metadata": {
        "colab": {
          "base_uri": "https://localhost:8080/"
        },
        "id": "PmfwbEioY9BM",
        "outputId": "9ed94728-fe5c-4b3f-d47c-a38ccbed584a"
      },
      "outputs": [],
      "source": [
        "check_range(7, 2, 5)"
      ]
    },
    {
      "cell_type": "markdown",
      "metadata": {
        "id": "IsoEKQwfY9BN"
      },
      "source": [
        "Napisz funkcję o nazwie bool_range, która robi to samo, ale zwraca tylko wartość logiczną."
      ]
    },
    {
      "cell_type": "code",
      "execution_count": 2,
      "metadata": {},
      "outputs": [],
      "source": [
        "def bool_range(x, y, z):\n",
        "  return(bool(x>y and x<z))"
      ]
    },
    {
      "cell_type": "code",
      "execution_count": null,
      "metadata": {
        "colab": {
          "base_uri": "https://localhost:8080/"
        },
        "id": "kBSPdDIJY9BN",
        "outputId": "a65eb766-ee86-427c-96f7-6bc6f231e058"
      },
      "outputs": [],
      "source": [
        "bool_range(7, 5, 20)"
      ]
    },
    {
      "cell_type": "code",
      "execution_count": null,
      "metadata": {
        "colab": {
          "base_uri": "https://localhost:8080/"
        },
        "id": "ihi1KEqaY9BN",
        "outputId": "eca78b51-a8b9-45c7-b8b8-d890d10d08b9"
      },
      "outputs": [],
      "source": [
        "bool_range(67, 22, 25)"
      ]
    },
    {
      "cell_type": "markdown",
      "metadata": {
        "id": "k-Y97ByjNq1_"
      },
      "source": [
        "## Ćwiczenie 2"
      ]
    },
    {
      "cell_type": "markdown",
      "metadata": {
        "id": "6hRdKqrcY9BN"
      },
      "source": [
        "Napisz funkcję o nazwie unique_list, która pobiera listę i zwraca listę zawierającą tylko unikalne elementy danych wejściowych."
      ]
    },
    {
      "cell_type": "code",
      "execution_count": null,
      "metadata": {},
      "outputs": [],
      "source": [
        "def unique_list(list):\n",
        "  unique_elements = []\n",
        "  for v in list:\n",
        "    if v not in unique_elements:\n",
        "      unique_elements.append(v)\n",
        "  return unique_elements;"
      ]
    },
    {
      "cell_type": "code",
      "execution_count": null,
      "metadata": {
        "colab": {
          "base_uri": "https://localhost:8080/"
        },
        "id": "rmTDz3-QY9BN",
        "outputId": "dc8a0f99-5f63-404b-841a-36c7ecbf5e2c"
      },
      "outputs": [],
      "source": [
        "my_list = [1,3,5,6,4,3,2,3,3,4,3,4,5,6,6,4,3,2,12,3,5,63,4,5,3,3,2]\n",
        "\n",
        "unique_list(my_list)"
      ]
    },
    {
      "cell_type": "markdown",
      "metadata": {
        "id": "sn8wmt5AY9BN"
      },
      "source": [
        "Znajdź inny sposób wykonania tej samej operacji bez definiowania funkcji."
      ]
    },
    {
      "cell_type": "code",
      "execution_count": null,
      "metadata": {
        "colab": {
          "base_uri": "https://localhost:8080/"
        },
        "id": "_ALoIVEBY9BN",
        "outputId": "5806d939-6555-4992-812d-1992b89abbca"
      },
      "outputs": [],
      "source": [
        "set(my_list)"
      ]
    },
    {
      "cell_type": "markdown",
      "metadata": {
        "id": "R0vbbDN5Y9BN"
      },
      "source": [
        "## Ćwiczenie 3"
      ]
    },
    {
      "cell_type": "markdown",
      "metadata": {
        "id": "HyNQM6mkSTVH"
      },
      "source": [
        "Napisz funkcję o nazwie objętość_kuli, która przyjmuje promień kuli i zwraca jej objętość zaokrągloną do 2 dp. (Google wzór na objętość kuli, użyj pi = 3,14)"
      ]
    },
    {
      "cell_type": "code",
      "execution_count": 7,
      "metadata": {
        "id": "9YSZEoMLY9BO"
      },
      "outputs": [],
      "source": [
        "def volume_of_sphere(promien):\n",
        "  return round(4/3 * 3.14 * promien ** 3 , 2)"
      ]
    },
    {
      "cell_type": "code",
      "execution_count": null,
      "metadata": {
        "colab": {
          "base_uri": "https://localhost:8080/"
        },
        "id": "UGu2ZqyHY9BO",
        "outputId": "17be067e-76a4-40ba-dafb-a4b418fdb101"
      },
      "outputs": [],
      "source": [
        "volume_of_sphere(2)"
      ]
    },
    {
      "cell_type": "markdown",
      "metadata": {
        "id": "7oVc_UDVY9BO"
      },
      "source": [
        "## Ćwiczenie 4"
      ]
    },
    {
      "cell_type": "markdown",
      "metadata": {
        "id": "soFoeiOUY9BP"
      },
      "source": [
        "Zdefiniuj funkcję rekurencyjną o nazwie num_fact, która zwraca silnię podanej liczby."
      ]
    },
    {
      "cell_type": "code",
      "execution_count": 16,
      "metadata": {
        "id": "R5L6GlxaY9BP"
      },
      "outputs": [],
      "source": [
        "def num_fact(liczba):\n",
        "  if liczba > 0:\n",
        "    return liczba * num_fact(liczba - 1)\n",
        "  else:\n",
        "    return 1"
      ]
    },
    {
      "cell_type": "code",
      "execution_count": null,
      "metadata": {
        "colab": {
          "base_uri": "https://localhost:8080/"
        },
        "id": "M_oZnIEAY9BP",
        "outputId": "fbad3647-b975-4cfc-da5c-d14b4dfe8a0c"
      },
      "outputs": [],
      "source": [
        "num_fact(10)"
      ]
    }
  ],
  "metadata": {
    "colab": {
      "provenance": []
    },
    "kernelspec": {
      "display_name": "Python 3",
      "language": "python",
      "name": "python3"
    },
    "language_info": {
      "codemirror_mode": {
        "name": "ipython",
        "version": 3
      },
      "file_extension": ".py",
      "mimetype": "text/x-python",
      "name": "python",
      "nbconvert_exporter": "python",
      "pygments_lexer": "ipython3",
      "version": "3.10.2"
    },
    "vscode": {
      "interpreter": {
        "hash": "369f2c481f4da34e4445cda3fffd2e751bd1c4d706f27375911949ba6bb62e1c"
      }
    }
  },
  "nbformat": 4,
  "nbformat_minor": 0
}
