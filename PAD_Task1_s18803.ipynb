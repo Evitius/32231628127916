{
  "nbformat": 4,
  "nbformat_minor": 0,
  "metadata": {
    "colab": {
      "provenance": []
    },
    "kernelspec": {
      "name": "python3",
      "display_name": "Python 3"
    },
    "language_info": {
      "name": "python"
    }
  },
  "cells": [
    {
      "cell_type": "markdown",
      "source": [
        "# **Praca domowa PAD Lab01**\n",
        "###**Michał Żabicki s18803**"
      ],
      "metadata": {
        "id": "qrwhy5pGh8NA"
      }
    },
    {
      "cell_type": "markdown",
      "metadata": {
        "id": "F-r3kNKJY9BM"
      },
      "source": [
        "## Ćwiczenie 1"
      ]
    },
    {
      "cell_type": "markdown",
      "metadata": {
        "id": "vIgybhKxY9BM"
      },
      "source": [
        "Napisz funkcję o nazwie check_range, która sprawdza, czy liczba znajduje się w podanym zakresie (zawiera zarówno niski *__i__* wysoki). <br>\n",
        "Jeśli tak, zwróć „x jest między y a z”. <br>\n",
        "Jeśli tak nie jest, zwróć „x NIE jest między y a z”. <br>\n",
        "Gdzie:\n",
        "- x to liczba\n",
        "- y jest dolną granicą\n",
        "- z to górna granica"
      ]
    },
    {
      "cell_type": "code",
      "source": [
        "def check_range(x, y, z):\n",
        "  if(x>y and x<z):\n",
        "    print('x jest między y a z')\n",
        "  else:\n",
        "    print('x NIE jest między y a z')"
      ],
      "metadata": {
        "id": "D-lBCMlLflCQ"
      },
      "execution_count": null,
      "outputs": []
    },
    {
      "cell_type": "code",
      "execution_count": null,
      "metadata": {
        "id": "FGgjnW_OY9BM",
        "colab": {
          "base_uri": "https://localhost:8080/"
        },
        "outputId": "aa477663-d877-429f-9d30-eacdf337fb57"
      },
      "outputs": [
        {
          "output_type": "stream",
          "name": "stdout",
          "text": [
            "x jest między y a z\n"
          ]
        }
      ],
      "source": [
        "check_range(34, 9, 228)"
      ]
    },
    {
      "cell_type": "code",
      "execution_count": null,
      "metadata": {
        "id": "PmfwbEioY9BM",
        "colab": {
          "base_uri": "https://localhost:8080/"
        },
        "outputId": "9ed94728-fe5c-4b3f-d47c-a38ccbed584a"
      },
      "outputs": [
        {
          "output_type": "stream",
          "name": "stdout",
          "text": [
            "x NIE jest między y a z\n"
          ]
        }
      ],
      "source": [
        "check_range(7, 2, 5)"
      ]
    },
    {
      "cell_type": "markdown",
      "metadata": {
        "id": "IsoEKQwfY9BN"
      },
      "source": [
        "Napisz funkcję o nazwie bool_range, która robi to samo, ale zwraca tylko wartość logiczną."
      ]
    },
    {
      "cell_type": "code",
      "source": [
        "def bool_range(x, y, z):\n",
        "  return(bool(x>y and x<z))"
      ],
      "metadata": {
        "id": "bKPhDIy8jYBb"
      },
      "execution_count": null,
      "outputs": []
    },
    {
      "cell_type": "code",
      "execution_count": null,
      "metadata": {
        "id": "kBSPdDIJY9BN",
        "colab": {
          "base_uri": "https://localhost:8080/"
        },
        "outputId": "a65eb766-ee86-427c-96f7-6bc6f231e058"
      },
      "outputs": [
        {
          "output_type": "execute_result",
          "data": {
            "text/plain": [
              "True"
            ]
          },
          "metadata": {},
          "execution_count": 16
        }
      ],
      "source": [
        "bool_range(7, 5, 20)"
      ]
    },
    {
      "cell_type": "code",
      "execution_count": null,
      "metadata": {
        "id": "ihi1KEqaY9BN",
        "colab": {
          "base_uri": "https://localhost:8080/"
        },
        "outputId": "eca78b51-a8b9-45c7-b8b8-d890d10d08b9"
      },
      "outputs": [
        {
          "output_type": "execute_result",
          "data": {
            "text/plain": [
              "False"
            ]
          },
          "metadata": {},
          "execution_count": 17
        }
      ],
      "source": [
        "bool_range(67, 22, 25)"
      ]
    },
    {
      "cell_type": "markdown",
      "metadata": {
        "id": "k-Y97ByjNq1_"
      },
      "source": [
        "## Ćwiczenie 2"
      ]
    },
    {
      "cell_type": "markdown",
      "metadata": {
        "id": "6hRdKqrcY9BN"
      },
      "source": [
        "Napisz funkcję o nazwie unique_list, która pobiera listę i zwraca listę zawierającą tylko unikalne elementy danych wejściowych."
      ]
    },
    {
      "cell_type": "code",
      "execution_count": null,
      "metadata": {
        "id": "6-SBwI-oY9BN"
      },
      "outputs": [],
      "source": [
        "def unique_list(list):\n",
        "  unique_elements = []\n",
        "  for v in list:\n",
        "    if v not in unique_elements:\n",
        "      unique_elements.append(v)\n",
        "  return unique_elements;"
      ]
    },
    {
      "cell_type": "code",
      "execution_count": null,
      "metadata": {
        "id": "rmTDz3-QY9BN",
        "colab": {
          "base_uri": "https://localhost:8080/"
        },
        "outputId": "dc8a0f99-5f63-404b-841a-36c7ecbf5e2c"
      },
      "outputs": [
        {
          "output_type": "execute_result",
          "data": {
            "text/plain": [
              "[1, 3, 5, 6, 4, 2, 12, 63]"
            ]
          },
          "metadata": {},
          "execution_count": 6
        }
      ],
      "source": [
        "my_list = [1,3,5,6,4,3,2,3,3,4,3,4,5,6,6,4,3,2,12,3,5,63,4,5,3,3,2]\n",
        "\n",
        "unique_list(my_list)"
      ]
    },
    {
      "cell_type": "markdown",
      "metadata": {
        "id": "sn8wmt5AY9BN"
      },
      "source": [
        "Znajdź inny sposób wykonania tej samej operacji bez definiowania funkcji."
      ]
    },
    {
      "cell_type": "code",
      "execution_count": null,
      "metadata": {
        "id": "_ALoIVEBY9BN",
        "colab": {
          "base_uri": "https://localhost:8080/"
        },
        "outputId": "5806d939-6555-4992-812d-1992b89abbca"
      },
      "outputs": [
        {
          "output_type": "execute_result",
          "data": {
            "text/plain": [
              "{1, 2, 3, 4, 5, 6, 12, 63}"
            ]
          },
          "metadata": {},
          "execution_count": 4
        }
      ],
      "source": [
        "set(my_list)"
      ]
    },
    {
      "cell_type": "markdown",
      "metadata": {
        "id": "R0vbbDN5Y9BN"
      },
      "source": [
        "## Ćwiczenie 3"
      ]
    },
    {
      "cell_type": "markdown",
      "metadata": {
        "id": "HyNQM6mkSTVH"
      },
      "source": [
        "Napisz funkcję o nazwie objętość_kuli, która przyjmuje promień kuli i zwraca jej objętość zaokrągloną do 2 dp. (Google wzór na objętość kuli, użyj pi = 3,14)"
      ]
    },
    {
      "cell_type": "code",
      "execution_count": 7,
      "metadata": {
        "id": "9YSZEoMLY9BO"
      },
      "outputs": [],
      "source": [
        "def volume_of_sphere(promien):\n",
        "  return round(4/3 * 3.14 * promien ** 3 , 2)"
      ]
    },
    {
      "cell_type": "code",
      "execution_count": 8,
      "metadata": {
        "id": "UGu2ZqyHY9BO",
        "colab": {
          "base_uri": "https://localhost:8080/"
        },
        "outputId": "17be067e-76a4-40ba-dafb-a4b418fdb101"
      },
      "outputs": [
        {
          "output_type": "execute_result",
          "data": {
            "text/plain": [
              "33.49"
            ]
          },
          "metadata": {},
          "execution_count": 8
        }
      ],
      "source": [
        "volume_of_sphere(2)"
      ]
    },
    {
      "cell_type": "markdown",
      "metadata": {
        "id": "7oVc_UDVY9BO"
      },
      "source": [
        "## Ćwiczenie 4"
      ]
    },
    {
      "cell_type": "markdown",
      "metadata": {
        "id": "soFoeiOUY9BP"
      },
      "source": [
        "Zdefiniuj funkcję rekurencyjną o nazwie num_fact, która zwraca silnię podanej liczby."
      ]
    },
    {
      "cell_type": "code",
      "execution_count": 16,
      "metadata": {
        "id": "R5L6GlxaY9BP"
      },
      "outputs": [],
      "source": [
        "def num_fact(liczba):\n",
        "  if liczba > 0:\n",
        "    return liczba * num_fact(liczba - 1)\n",
        "  else:\n",
        "    return 1"
      ]
    },
    {
      "cell_type": "code",
      "execution_count": 21,
      "metadata": {
        "id": "M_oZnIEAY9BP",
        "colab": {
          "base_uri": "https://localhost:8080/"
        },
        "outputId": "fbad3647-b975-4cfc-da5c-d14b4dfe8a0c"
      },
      "outputs": [
        {
          "output_type": "execute_result",
          "data": {
            "text/plain": [
              "3628800"
            ]
          },
          "metadata": {},
          "execution_count": 21
        }
      ],
      "source": [
        "num_fact(10)"
      ]
    }
  ]
}